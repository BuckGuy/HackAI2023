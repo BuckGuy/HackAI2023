{
 "cells": [
  {
   "cell_type": "code",
   "execution_count": 1,
   "metadata": {},
   "outputs": [
    {
     "data": {
      "text/html": [
       "<div>\n",
       "<style scoped>\n",
       "    .dataframe tbody tr th:only-of-type {\n",
       "        vertical-align: middle;\n",
       "    }\n",
       "\n",
       "    .dataframe tbody tr th {\n",
       "        vertical-align: top;\n",
       "    }\n",
       "\n",
       "    .dataframe thead th {\n",
       "        text-align: right;\n",
       "    }\n",
       "</style>\n",
       "<table border=\"1\" class=\"dataframe\">\n",
       "  <thead>\n",
       "    <tr style=\"text-align: right;\">\n",
       "      <th></th>\n",
       "      <th>Id</th>\n",
       "      <th>fixed acidity</th>\n",
       "      <th>volatile acidity</th>\n",
       "      <th>citric acid</th>\n",
       "      <th>residual sugar</th>\n",
       "      <th>chlorides</th>\n",
       "      <th>free sulfur dioxide</th>\n",
       "      <th>total sulfur dioxide</th>\n",
       "      <th>density</th>\n",
       "      <th>pH</th>\n",
       "      <th>sulphates</th>\n",
       "      <th>alcohol</th>\n",
       "      <th>quality</th>\n",
       "    </tr>\n",
       "  </thead>\n",
       "  <tbody>\n",
       "    <tr>\n",
       "      <th>0</th>\n",
       "      <td>0</td>\n",
       "      <td>8.0</td>\n",
       "      <td>0.50</td>\n",
       "      <td>0.39</td>\n",
       "      <td>2.20</td>\n",
       "      <td>0.073</td>\n",
       "      <td>30.0</td>\n",
       "      <td>39.0</td>\n",
       "      <td>0.99572</td>\n",
       "      <td>3.33</td>\n",
       "      <td>0.77</td>\n",
       "      <td>12.1</td>\n",
       "      <td>6</td>\n",
       "    </tr>\n",
       "    <tr>\n",
       "      <th>1</th>\n",
       "      <td>1</td>\n",
       "      <td>9.3</td>\n",
       "      <td>0.30</td>\n",
       "      <td>0.73</td>\n",
       "      <td>2.30</td>\n",
       "      <td>0.092</td>\n",
       "      <td>30.0</td>\n",
       "      <td>67.0</td>\n",
       "      <td>0.99854</td>\n",
       "      <td>3.32</td>\n",
       "      <td>0.67</td>\n",
       "      <td>12.8</td>\n",
       "      <td>6</td>\n",
       "    </tr>\n",
       "    <tr>\n",
       "      <th>2</th>\n",
       "      <td>2</td>\n",
       "      <td>7.1</td>\n",
       "      <td>0.51</td>\n",
       "      <td>0.03</td>\n",
       "      <td>2.10</td>\n",
       "      <td>0.059</td>\n",
       "      <td>3.0</td>\n",
       "      <td>12.0</td>\n",
       "      <td>0.99660</td>\n",
       "      <td>3.52</td>\n",
       "      <td>0.73</td>\n",
       "      <td>11.3</td>\n",
       "      <td>7</td>\n",
       "    </tr>\n",
       "    <tr>\n",
       "      <th>3</th>\n",
       "      <td>3</td>\n",
       "      <td>8.1</td>\n",
       "      <td>0.87</td>\n",
       "      <td>0.22</td>\n",
       "      <td>2.60</td>\n",
       "      <td>0.084</td>\n",
       "      <td>11.0</td>\n",
       "      <td>65.0</td>\n",
       "      <td>0.99730</td>\n",
       "      <td>3.20</td>\n",
       "      <td>0.53</td>\n",
       "      <td>9.8</td>\n",
       "      <td>5</td>\n",
       "    </tr>\n",
       "    <tr>\n",
       "      <th>4</th>\n",
       "      <td>4</td>\n",
       "      <td>8.5</td>\n",
       "      <td>0.36</td>\n",
       "      <td>0.30</td>\n",
       "      <td>2.30</td>\n",
       "      <td>0.079</td>\n",
       "      <td>10.0</td>\n",
       "      <td>45.0</td>\n",
       "      <td>0.99444</td>\n",
       "      <td>3.20</td>\n",
       "      <td>1.36</td>\n",
       "      <td>9.5</td>\n",
       "      <td>6</td>\n",
       "    </tr>\n",
       "    <tr>\n",
       "      <th>...</th>\n",
       "      <td>...</td>\n",
       "      <td>...</td>\n",
       "      <td>...</td>\n",
       "      <td>...</td>\n",
       "      <td>...</td>\n",
       "      <td>...</td>\n",
       "      <td>...</td>\n",
       "      <td>...</td>\n",
       "      <td>...</td>\n",
       "      <td>...</td>\n",
       "      <td>...</td>\n",
       "      <td>...</td>\n",
       "      <td>...</td>\n",
       "    </tr>\n",
       "    <tr>\n",
       "      <th>2051</th>\n",
       "      <td>2051</td>\n",
       "      <td>6.6</td>\n",
       "      <td>0.31</td>\n",
       "      <td>0.13</td>\n",
       "      <td>2.00</td>\n",
       "      <td>0.056</td>\n",
       "      <td>29.0</td>\n",
       "      <td>42.0</td>\n",
       "      <td>0.99388</td>\n",
       "      <td>3.52</td>\n",
       "      <td>0.87</td>\n",
       "      <td>12.0</td>\n",
       "      <td>7</td>\n",
       "    </tr>\n",
       "    <tr>\n",
       "      <th>2052</th>\n",
       "      <td>2052</td>\n",
       "      <td>9.7</td>\n",
       "      <td>0.59</td>\n",
       "      <td>0.21</td>\n",
       "      <td>1.80</td>\n",
       "      <td>0.079</td>\n",
       "      <td>27.0</td>\n",
       "      <td>65.0</td>\n",
       "      <td>0.99745</td>\n",
       "      <td>3.14</td>\n",
       "      <td>0.58</td>\n",
       "      <td>9.4</td>\n",
       "      <td>5</td>\n",
       "    </tr>\n",
       "    <tr>\n",
       "      <th>2053</th>\n",
       "      <td>2053</td>\n",
       "      <td>7.7</td>\n",
       "      <td>0.43</td>\n",
       "      <td>0.42</td>\n",
       "      <td>1.70</td>\n",
       "      <td>0.071</td>\n",
       "      <td>19.0</td>\n",
       "      <td>37.0</td>\n",
       "      <td>0.99258</td>\n",
       "      <td>3.32</td>\n",
       "      <td>0.77</td>\n",
       "      <td>12.5</td>\n",
       "      <td>8</td>\n",
       "    </tr>\n",
       "    <tr>\n",
       "      <th>2054</th>\n",
       "      <td>2054</td>\n",
       "      <td>9.1</td>\n",
       "      <td>0.50</td>\n",
       "      <td>0.00</td>\n",
       "      <td>1.75</td>\n",
       "      <td>0.058</td>\n",
       "      <td>5.0</td>\n",
       "      <td>13.0</td>\n",
       "      <td>0.99670</td>\n",
       "      <td>3.22</td>\n",
       "      <td>0.42</td>\n",
       "      <td>9.5</td>\n",
       "      <td>5</td>\n",
       "    </tr>\n",
       "    <tr>\n",
       "      <th>2055</th>\n",
       "      <td>2055</td>\n",
       "      <td>6.2</td>\n",
       "      <td>0.31</td>\n",
       "      <td>0.18</td>\n",
       "      <td>2.30</td>\n",
       "      <td>0.059</td>\n",
       "      <td>12.0</td>\n",
       "      <td>28.0</td>\n",
       "      <td>0.99520</td>\n",
       "      <td>3.56</td>\n",
       "      <td>0.88</td>\n",
       "      <td>11.4</td>\n",
       "      <td>7</td>\n",
       "    </tr>\n",
       "  </tbody>\n",
       "</table>\n",
       "<p>2056 rows × 13 columns</p>\n",
       "</div>"
      ],
      "text/plain": [
       "        Id  fixed acidity  volatile acidity  citric acid  residual sugar  \\\n",
       "0        0            8.0              0.50         0.39            2.20   \n",
       "1        1            9.3              0.30         0.73            2.30   \n",
       "2        2            7.1              0.51         0.03            2.10   \n",
       "3        3            8.1              0.87         0.22            2.60   \n",
       "4        4            8.5              0.36         0.30            2.30   \n",
       "...    ...            ...               ...          ...             ...   \n",
       "2051  2051            6.6              0.31         0.13            2.00   \n",
       "2052  2052            9.7              0.59         0.21            1.80   \n",
       "2053  2053            7.7              0.43         0.42            1.70   \n",
       "2054  2054            9.1              0.50         0.00            1.75   \n",
       "2055  2055            6.2              0.31         0.18            2.30   \n",
       "\n",
       "      chlorides  free sulfur dioxide  total sulfur dioxide  density    pH  \\\n",
       "0         0.073                 30.0                  39.0  0.99572  3.33   \n",
       "1         0.092                 30.0                  67.0  0.99854  3.32   \n",
       "2         0.059                  3.0                  12.0  0.99660  3.52   \n",
       "3         0.084                 11.0                  65.0  0.99730  3.20   \n",
       "4         0.079                 10.0                  45.0  0.99444  3.20   \n",
       "...         ...                  ...                   ...      ...   ...   \n",
       "2051      0.056                 29.0                  42.0  0.99388  3.52   \n",
       "2052      0.079                 27.0                  65.0  0.99745  3.14   \n",
       "2053      0.071                 19.0                  37.0  0.99258  3.32   \n",
       "2054      0.058                  5.0                  13.0  0.99670  3.22   \n",
       "2055      0.059                 12.0                  28.0  0.99520  3.56   \n",
       "\n",
       "      sulphates  alcohol  quality  \n",
       "0          0.77     12.1        6  \n",
       "1          0.67     12.8        6  \n",
       "2          0.73     11.3        7  \n",
       "3          0.53      9.8        5  \n",
       "4          1.36      9.5        6  \n",
       "...         ...      ...      ...  \n",
       "2051       0.87     12.0        7  \n",
       "2052       0.58      9.4        5  \n",
       "2053       0.77     12.5        8  \n",
       "2054       0.42      9.5        5  \n",
       "2055       0.88     11.4        7  \n",
       "\n",
       "[2056 rows x 13 columns]"
      ]
     },
     "execution_count": 1,
     "metadata": {},
     "output_type": "execute_result"
    }
   ],
   "source": [
    "import pandas as pd\n",
    "import numpy as np\n",
    "import seaborn as sns\n",
    "import statsmodels.api as sm\n",
    "from sklearn.metrics import (confusion_matrix, accuracy_score, roc_curve, roc_auc_score)\n",
    "from matplotlib import pyplot as plt\n",
    "\n",
    "data = pd.read_csv(\"train.csv\")\n",
    "cols = ['fixed acidity', 'volatile acidity', 'citric acid', 'residual sugar', 'chlorides', 'free sulfur dioxide', 'total sulfur dioxide', 'density', 'pH', 'sulphates', 'alcohol']\n",
    "data"
   ]
  },
  {
   "cell_type": "code",
   "execution_count": 2,
   "metadata": {},
   "outputs": [
    {
     "data": {
      "text/html": [
       "<div>\n",
       "<style scoped>\n",
       "    .dataframe tbody tr th:only-of-type {\n",
       "        vertical-align: middle;\n",
       "    }\n",
       "\n",
       "    .dataframe tbody tr th {\n",
       "        vertical-align: top;\n",
       "    }\n",
       "\n",
       "    .dataframe thead th {\n",
       "        text-align: right;\n",
       "    }\n",
       "</style>\n",
       "<table border=\"1\" class=\"dataframe\">\n",
       "  <thead>\n",
       "    <tr style=\"text-align: right;\">\n",
       "      <th></th>\n",
       "      <th>Id</th>\n",
       "      <th>fixed acidity</th>\n",
       "      <th>volatile acidity</th>\n",
       "      <th>citric acid</th>\n",
       "      <th>residual sugar</th>\n",
       "      <th>chlorides</th>\n",
       "      <th>free sulfur dioxide</th>\n",
       "      <th>total sulfur dioxide</th>\n",
       "      <th>density</th>\n",
       "      <th>pH</th>\n",
       "      <th>sulphates</th>\n",
       "      <th>alcohol</th>\n",
       "      <th>quality</th>\n",
       "    </tr>\n",
       "  </thead>\n",
       "  <tbody>\n",
       "    <tr>\n",
       "      <th>count</th>\n",
       "      <td>2056.000000</td>\n",
       "      <td>2056.000000</td>\n",
       "      <td>2056.000000</td>\n",
       "      <td>2056.000000</td>\n",
       "      <td>2056.000000</td>\n",
       "      <td>2056.000000</td>\n",
       "      <td>2056.000000</td>\n",
       "      <td>2056.000000</td>\n",
       "      <td>2056.000000</td>\n",
       "      <td>2056.000000</td>\n",
       "      <td>2056.000000</td>\n",
       "      <td>2056.000000</td>\n",
       "      <td>2056.000000</td>\n",
       "    </tr>\n",
       "    <tr>\n",
       "      <th>mean</th>\n",
       "      <td>1027.500000</td>\n",
       "      <td>8.365175</td>\n",
       "      <td>0.527601</td>\n",
       "      <td>0.265058</td>\n",
       "      <td>2.398881</td>\n",
       "      <td>0.081856</td>\n",
       "      <td>16.955982</td>\n",
       "      <td>49.236868</td>\n",
       "      <td>0.996748</td>\n",
       "      <td>3.310569</td>\n",
       "      <td>0.641308</td>\n",
       "      <td>10.414972</td>\n",
       "      <td>5.720817</td>\n",
       "    </tr>\n",
       "    <tr>\n",
       "      <th>std</th>\n",
       "      <td>593.660397</td>\n",
       "      <td>1.705390</td>\n",
       "      <td>0.173164</td>\n",
       "      <td>0.188267</td>\n",
       "      <td>0.858824</td>\n",
       "      <td>0.023729</td>\n",
       "      <td>10.009710</td>\n",
       "      <td>32.961141</td>\n",
       "      <td>0.001827</td>\n",
       "      <td>0.142321</td>\n",
       "      <td>0.137942</td>\n",
       "      <td>1.028825</td>\n",
       "      <td>0.853146</td>\n",
       "    </tr>\n",
       "    <tr>\n",
       "      <th>min</th>\n",
       "      <td>0.000000</td>\n",
       "      <td>5.000000</td>\n",
       "      <td>0.180000</td>\n",
       "      <td>0.000000</td>\n",
       "      <td>1.200000</td>\n",
       "      <td>0.012000</td>\n",
       "      <td>1.000000</td>\n",
       "      <td>7.000000</td>\n",
       "      <td>0.990070</td>\n",
       "      <td>2.740000</td>\n",
       "      <td>0.390000</td>\n",
       "      <td>8.700000</td>\n",
       "      <td>3.000000</td>\n",
       "    </tr>\n",
       "    <tr>\n",
       "      <th>25%</th>\n",
       "      <td>513.750000</td>\n",
       "      <td>7.200000</td>\n",
       "      <td>0.390000</td>\n",
       "      <td>0.090000</td>\n",
       "      <td>1.900000</td>\n",
       "      <td>0.071000</td>\n",
       "      <td>8.000000</td>\n",
       "      <td>22.000000</td>\n",
       "      <td>0.995600</td>\n",
       "      <td>3.200000</td>\n",
       "      <td>0.550000</td>\n",
       "      <td>9.500000</td>\n",
       "      <td>5.000000</td>\n",
       "    </tr>\n",
       "    <tr>\n",
       "      <th>50%</th>\n",
       "      <td>1027.500000</td>\n",
       "      <td>7.950000</td>\n",
       "      <td>0.520000</td>\n",
       "      <td>0.250000</td>\n",
       "      <td>2.200000</td>\n",
       "      <td>0.079000</td>\n",
       "      <td>16.000000</td>\n",
       "      <td>44.000000</td>\n",
       "      <td>0.996700</td>\n",
       "      <td>3.310000</td>\n",
       "      <td>0.610000</td>\n",
       "      <td>10.100000</td>\n",
       "      <td>6.000000</td>\n",
       "    </tr>\n",
       "    <tr>\n",
       "      <th>75%</th>\n",
       "      <td>1541.250000</td>\n",
       "      <td>9.200000</td>\n",
       "      <td>0.640000</td>\n",
       "      <td>0.420000</td>\n",
       "      <td>2.600000</td>\n",
       "      <td>0.090000</td>\n",
       "      <td>24.000000</td>\n",
       "      <td>65.000000</td>\n",
       "      <td>0.997800</td>\n",
       "      <td>3.390000</td>\n",
       "      <td>0.720000</td>\n",
       "      <td>11.000000</td>\n",
       "      <td>6.000000</td>\n",
       "    </tr>\n",
       "    <tr>\n",
       "      <th>max</th>\n",
       "      <td>2055.000000</td>\n",
       "      <td>15.900000</td>\n",
       "      <td>1.580000</td>\n",
       "      <td>0.760000</td>\n",
       "      <td>14.000000</td>\n",
       "      <td>0.414000</td>\n",
       "      <td>68.000000</td>\n",
       "      <td>289.000000</td>\n",
       "      <td>1.003690</td>\n",
       "      <td>3.780000</td>\n",
       "      <td>1.950000</td>\n",
       "      <td>14.000000</td>\n",
       "      <td>8.000000</td>\n",
       "    </tr>\n",
       "  </tbody>\n",
       "</table>\n",
       "</div>"
      ],
      "text/plain": [
       "                Id  fixed acidity  volatile acidity  citric acid  \\\n",
       "count  2056.000000    2056.000000       2056.000000  2056.000000   \n",
       "mean   1027.500000       8.365175          0.527601     0.265058   \n",
       "std     593.660397       1.705390          0.173164     0.188267   \n",
       "min       0.000000       5.000000          0.180000     0.000000   \n",
       "25%     513.750000       7.200000          0.390000     0.090000   \n",
       "50%    1027.500000       7.950000          0.520000     0.250000   \n",
       "75%    1541.250000       9.200000          0.640000     0.420000   \n",
       "max    2055.000000      15.900000          1.580000     0.760000   \n",
       "\n",
       "       residual sugar    chlorides  free sulfur dioxide  total sulfur dioxide  \\\n",
       "count     2056.000000  2056.000000          2056.000000           2056.000000   \n",
       "mean         2.398881     0.081856            16.955982             49.236868   \n",
       "std          0.858824     0.023729            10.009710             32.961141   \n",
       "min          1.200000     0.012000             1.000000              7.000000   \n",
       "25%          1.900000     0.071000             8.000000             22.000000   \n",
       "50%          2.200000     0.079000            16.000000             44.000000   \n",
       "75%          2.600000     0.090000            24.000000             65.000000   \n",
       "max         14.000000     0.414000            68.000000            289.000000   \n",
       "\n",
       "           density           pH    sulphates      alcohol      quality  \n",
       "count  2056.000000  2056.000000  2056.000000  2056.000000  2056.000000  \n",
       "mean      0.996748     3.310569     0.641308    10.414972     5.720817  \n",
       "std       0.001827     0.142321     0.137942     1.028825     0.853146  \n",
       "min       0.990070     2.740000     0.390000     8.700000     3.000000  \n",
       "25%       0.995600     3.200000     0.550000     9.500000     5.000000  \n",
       "50%       0.996700     3.310000     0.610000    10.100000     6.000000  \n",
       "75%       0.997800     3.390000     0.720000    11.000000     6.000000  \n",
       "max       1.003690     3.780000     1.950000    14.000000     8.000000  "
      ]
     },
     "execution_count": 2,
     "metadata": {},
     "output_type": "execute_result"
    }
   ],
   "source": [
    "data.describe()"
   ]
  },
  {
   "attachments": {},
   "cell_type": "markdown",
   "metadata": {},
   "source": [
    "##### Analysis Before Cleaning"
   ]
  },
  {
   "cell_type": "code",
   "execution_count": 3,
   "metadata": {},
   "outputs": [
    {
     "data": {
      "text/plain": [
       "<AxesSubplot:>"
      ]
     },
     "execution_count": 3,
     "metadata": {},
     "output_type": "execute_result"
    },
    {
     "data": {
      "image/png": "[encoded data removed]",
      "text/plain": [
       "<Figure size 1440x720 with 2 Axes>"
      ]
     },
     "metadata": {
      "needs_background": "light"
     },
     "output_type": "display_data"
    }
   ],
   "source": [
    "fig, ax = plt.subplots(figsize=(20,10))\n",
    "sns.heatmap(data.corr(), cmap=\"crest\", annot=True, ax=ax)"
   ]
  },
  {
   "cell_type": "code",
   "execution_count": 4,
   "metadata": {},
   "outputs": [
    {
     "data": {
      "text/plain": [
       "<AxesSubplot:xlabel='fixed acidity', ylabel='Count'>"
      ]
     },
     "execution_count": 4,
     "metadata": {},
     "output_type": "execute_result"
    },
    {
     "data": {
      "image/png": "[encoded data removed]",
      "text/plain": [
       "<Figure size 432x288 with 1 Axes>"
      ]
     },
     "metadata": {
      "needs_background": "light"
     },
     "output_type": "display_data"
    }
   ],
   "source": [
    "sns.histplot(data.iloc[:,1])"
   ]
  },
  {
   "cell_type": "code",
   "execution_count": 5,
   "metadata": {},
   "outputs": [
    {
     "data": {
      "text/plain": [
       "<AxesSubplot:xlabel='volatile acidity', ylabel='Count'>"
      ]
     },
     "execution_count": 5,
     "metadata": {},
     "output_type": "execute_result"
    },
    {
     "data": {
      "image/png": "[encoded data removed]",
      "text/plain": [
       "<Figure size 432x288 with 1 Axes>"
      ]
     },
     "metadata": {
      "needs_background": "light"
     },
     "output_type": "display_data"
    }
   ],
   "source": [
    "sns.histplot(data.iloc[:,2])"
   ]
  },
  {
   "cell_type": "code",
   "execution_count": 6,
   "metadata": {},
   "outputs": [
    {
     "data": {
      "text/plain": [
       "<AxesSubplot:xlabel='citric acid', ylabel='Count'>"
      ]
     },
     "execution_count": 6,
     "metadata": {},
     "output_type": "execute_result"
    },
    {
     "data": {
      "image/png": "[encoded data removed]",
      "text/plain": [
       "<Figure size 432x288 with 1 Axes>"
      ]
     },
     "metadata": {
      "needs_background": "light"
     },
     "output_type": "display_data"
    }
   ],
   "source": [
    "sns.histplot(data.iloc[:,3])"
   ]
  },
  {
   "cell_type": "code",
   "execution_count": 7,
   "metadata": {},
   "outputs": [
    {
     "data": {
      "text/plain": [
       "<AxesSubplot:xlabel='residual sugar', ylabel='Count'>"
      ]
     },
     "execution_count": 7,
     "metadata": {},
     "output_type": "execute_result"
    },
    {
     "data": {
      "image/png": "[encoded data removed]",
      "text/plain": [
       "<Figure size 432x288 with 1 Axes>"
      ]
     },
     "metadata": {
      "needs_background": "light"
     },
     "output_type": "display_data"
    }
   ],
   "source": [
    "sns.histplot(data.iloc[:,4])"
   ]
  },
  {
   "cell_type": "code",
   "execution_count": 8,
   "metadata": {},
   "outputs": [
    {
     "data": {
      "text/plain": [
       "<AxesSubplot:xlabel='chlorides', ylabel='Count'>"
      ]
     },
     "execution_count": 8,
     "metadata": {},
     "output_type": "execute_result"
    },
    {
     "data": {
      "image/png": "[encoded data removed]",
      "text/plain": [
       "<Figure size 432x288 with 1 Axes>"
      ]
     },
     "metadata": {
      "needs_background": "light"
     },
     "output_type": "display_data"
    }
   ],
   "source": [
    "sns.histplot(data.iloc[:,5])"
   ]
  },
  {
   "cell_type": "code",
   "execution_count": 9,
   "metadata": {},
   "outputs": [
    {
     "data": {
      "text/plain": [
       "<AxesSubplot:xlabel='free sulfur dioxide', ylabel='Count'>"
      ]
     },
     "execution_count": 9,
     "metadata": {},
     "output_type": "execute_result"
    },
    {
     "data": {
      "image/png": "[encoded data removed]",
      "text/plain": [
       "<Figure size 432x288 with 1 Axes>"
      ]
     },
     "metadata": {
      "needs_background": "light"
     },
     "output_type": "display_data"
    }
   ],
   "source": [
    "sns.histplot(data.iloc[:,6])"
   ]
  },
  {
   "cell_type": "code",
   "execution_count": 10,
   "metadata": {},
   "outputs": [
    {
     "data": {
      "text/plain": [
       "<AxesSubplot:xlabel='total sulfur dioxide', ylabel='Count'>"
      ]
     },
     "execution_count": 10,
     "metadata": {},
     "output_type": "execute_result"
    },
    {
     "data": {
      "image/png": "[encoded data removed]",
      "text/plain": [
       "<Figure size 432x288 with 1 Axes>"
      ]
     },
     "metadata": {
      "needs_background": "light"
     },
     "output_type": "display_data"
    }
   ],
   "source": [
    "sns.histplot(data.iloc[:,7])"
   ]
  },
  {
   "cell_type": "code",
   "execution_count": 11,
   "metadata": {},
   "outputs": [
    {
     "data": {
      "text/plain": [
       "<AxesSubplot:xlabel='density', ylabel='Count'>"
      ]
     },
     "execution_count": 11,
     "metadata": {},
     "output_type": "execute_result"
    },
    {
     "data": {
      "image/png": "[encoded data removed]",
      "text/plain": [
       "<Figure size 432x288 with 1 Axes>"
      ]
     },
     "metadata": {
      "needs_background": "light"
     },
     "output_type": "display_data"
    }
   ],
   "source": [
    "sns.histplot(data.iloc[:,8])"
   ]
  },
  {
   "cell_type": "code",
   "execution_count": 12,
   "metadata": {},
   "outputs": [
    {
     "data": {
      "text/plain": [
       "<AxesSubplot:xlabel='pH', ylabel='Count'>"
      ]
     },
     "execution_count": 12,
     "metadata": {},
     "output_type": "execute_result"
    },
    {
     "data": {
      "image/png": "[encoded data removed]",
      "text/plain": [
       "<Figure size 432x288 with 1 Axes>"
      ]
     },
     "metadata": {
      "needs_background": "light"
     },
     "output_type": "display_data"
    }
   ],
   "source": [
    "sns.histplot(data.iloc[:,9])"
   ]
  },
  {
   "cell_type": "code",
   "execution_count": 13,
   "metadata": {},
   "outputs": [
    {
     "data": {
      "text/plain": [
       "<AxesSubplot:xlabel='sulphates', ylabel='Count'>"
      ]
     },
     "execution_count": 13,
     "metadata": {},
     "output_type": "execute_result"
    },
    {
     "data": {
      "image/png": "[encoded data removed]",
      "text/plain": [
       "<Figure size 432x288 with 1 Axes>"
      ]
     },
     "metadata": {
      "needs_background": "light"
     },
     "output_type": "display_data"
    }
   ],
   "source": [
    "sns.histplot(data.iloc[:,10])"
   ]
  },
  {
   "cell_type": "code",
   "execution_count": 14,
   "metadata": {},
   "outputs": [
    {
     "data": {
      "text/plain": [
       "<AxesSubplot:xlabel='alcohol', ylabel='Count'>"
      ]
     },
     "execution_count": 14,
     "metadata": {},
     "output_type": "execute_result"
    },
    {
     "data": {
      "image/png": "[encoded data removed]",
      "text/plain": [
       "<Figure size 432x288 with 1 Axes>"
      ]
     },
     "metadata": {
      "needs_background": "light"
     },
     "output_type": "display_data"
    }
   ],
   "source": [
    "sns.histplot(data.iloc[:,11])"
   ]
  },
  {
   "cell_type": "code",
   "execution_count": 15,
   "metadata": {},
   "outputs": [
    {
     "data": {
      "text/plain": [
       "<AxesSubplot:xlabel='quality', ylabel='Count'>"
      ]
     },
     "execution_count": 15,
     "metadata": {},
     "output_type": "execute_result"
    },
    {
     "data": {
      "image/png": "[encoded data removed]",
      "text/plain": [
       "<Figure size 432x288 with 1 Axes>"
      ]
     },
     "metadata": {
      "needs_background": "light"
     },
     "output_type": "display_data"
    }
   ],
   "source": [
    "sns.histplot(data.iloc[:,12])"
   ]
  },
  {
   "attachments": {},
   "cell_type": "markdown",
   "metadata": {},
   "source": [
    "#### Data Cleaning\n",
    "Ramesh you should try running the thing i put cuz it looks at the pairs and compares accuracies"
   ]
  },
  {
   "attachments": {},
   "cell_type": "markdown",
   "metadata": {},
   "source": [
    "#### Duplicates"
   ]
  },
  {
   "attachments": {},
   "cell_type": "markdown",
   "metadata": {},
   "source": [
    "All the duplicates in the data are"
   ]
  },
  {
   "cell_type": "code",
   "execution_count": 16,
   "metadata": {},
   "outputs": [
    {
     "data": {
      "text/html": [
       "<div>\n",
       "<style scoped>\n",
       "    .dataframe tbody tr th:only-of-type {\n",
       "        vertical-align: middle;\n",
       "    }\n",
       "\n",
       "    .dataframe tbody tr th {\n",
       "        vertical-align: top;\n",
       "    }\n",
       "\n",
       "    .dataframe thead th {\n",
       "        text-align: right;\n",
       "    }\n",
       "</style>\n",
       "<table border=\"1\" class=\"dataframe\">\n",
       "  <thead>\n",
       "    <tr style=\"text-align: right;\">\n",
       "      <th></th>\n",
       "      <th>Id</th>\n",
       "      <th>fixed acidity</th>\n",
       "      <th>volatile acidity</th>\n",
       "      <th>citric acid</th>\n",
       "      <th>residual sugar</th>\n",
       "      <th>chlorides</th>\n",
       "      <th>free sulfur dioxide</th>\n",
       "      <th>total sulfur dioxide</th>\n",
       "      <th>density</th>\n",
       "      <th>pH</th>\n",
       "      <th>sulphates</th>\n",
       "      <th>alcohol</th>\n",
       "      <th>quality</th>\n",
       "    </tr>\n",
       "  </thead>\n",
       "  <tbody>\n",
       "  </tbody>\n",
       "</table>\n",
       "</div>"
      ],
      "text/plain": [
       "Empty DataFrame\n",
       "Columns: [Id, fixed acidity, volatile acidity, citric acid, residual sugar, chlorides, free sulfur dioxide, total sulfur dioxide, density, pH, sulphates, alcohol, quality]\n",
       "Index: []"
      ]
     },
     "execution_count": 16,
     "metadata": {},
     "output_type": "execute_result"
    }
   ],
   "source": [
    "data[data.duplicated()]"
   ]
  },
  {
   "cell_type": "code",
   "execution_count": 17,
   "metadata": {},
   "outputs": [
    {
     "data": {
      "text/html": [
       "<div>\n",
       "<style scoped>\n",
       "    .dataframe tbody tr th:only-of-type {\n",
       "        vertical-align: middle;\n",
       "    }\n",
       "\n",
       "    .dataframe tbody tr th {\n",
       "        vertical-align: top;\n",
       "    }\n",
       "\n",
       "    .dataframe thead th {\n",
       "        text-align: right;\n",
       "    }\n",
       "</style>\n",
       "<table border=\"1\" class=\"dataframe\">\n",
       "  <thead>\n",
       "    <tr style=\"text-align: right;\">\n",
       "      <th></th>\n",
       "      <th>Id</th>\n",
       "      <th>fixed acidity</th>\n",
       "      <th>volatile acidity</th>\n",
       "      <th>citric acid</th>\n",
       "      <th>residual sugar</th>\n",
       "      <th>chlorides</th>\n",
       "      <th>free sulfur dioxide</th>\n",
       "      <th>total sulfur dioxide</th>\n",
       "      <th>density</th>\n",
       "      <th>pH</th>\n",
       "      <th>sulphates</th>\n",
       "      <th>alcohol</th>\n",
       "      <th>quality</th>\n",
       "    </tr>\n",
       "  </thead>\n",
       "  <tbody>\n",
       "  </tbody>\n",
       "</table>\n",
       "</div>"
      ],
      "text/plain": [
       "Empty DataFrame\n",
       "Columns: [Id, fixed acidity, volatile acidity, citric acid, residual sugar, chlorides, free sulfur dioxide, total sulfur dioxide, density, pH, sulphates, alcohol, quality]\n",
       "Index: []"
      ]
     },
     "execution_count": 17,
     "metadata": {},
     "output_type": "execute_result"
    }
   ],
   "source": [
    "data = data.drop_duplicates()\n",
    "data[data.duplicated()]"
   ]
  },
  {
   "attachments": {},
   "cell_type": "markdown",
   "metadata": {},
   "source": [
    "#### Delete Extreme Outliers"
   ]
  },
  {
   "cell_type": "code",
   "execution_count": null,
   "metadata": {},
   "outputs": [],
   "source": [
    "# Define acceptable ranges for each feature\n",
    "# OLD RANGES\n",
    "# acceptable_ranges = {\n",
    "#     'fixed acidity': (4, 15),\n",
    "#     'volatile acidity': (0, 1.5),\n",
    "#     'citric acid': (0, 1),\n",
    "#     'residual sugar': (0, 20),\n",
    "#     'chlorides': (0, 0.5),\n",
    "#     'free sulfur dioxide': (0, 75),\n",
    "#     'total sulfur dioxide': (0, 200),\n",
    "#     'density': (0.98, 1.005),\n",
    "#     'pH': (2.5, 4),\n",
    "#     'sulphates': (0, 2),\n",
    "#     'alcohol': (8, 16)\n",
    "# }\n",
    "\n",
    "# POSSIBLE RANGE ???\n",
    "# acceptable_ranges = {\n",
    "#     'fixed acidity': (0, 14),\n",
    "#     'volatile acidity': (0, 2), \n",
    "#     'citric acid': (0, 1),\n",
    "#     'residual sugar': (0, 45),\n",
    "#     'chlorides': (0, 0.6),\n",
    "#     'free sulfur dioxide': (0, 300),\n",
    "#     'total sulfur dioxide': (0, 500),\n",
    "#     'density': (0, 2),\n",
    "#     'pH': (0, 14),\n",
    "#     'sulphates': (0, 2),\n",
    "#     'alcohol': (0, 20)\n",
    "# }\n",
    "\n",
    "acceptable_ranges = {\n",
    "    'fixed acidity': (0, 14),\n",
    "    'volatile acidity': (0, 1.2), \n",
    "    'citric acid': (0, 1),\n",
    "    'residual sugar': (0, 7),\n",
    "    'chlorides': (0, 0.2),\n",
    "    'free sulfur dioxide': (0, 55),\n",
    "    'total sulfur dioxide': (0, 200),\n",
    "    'density': (0, 2),\n",
    "    'pH': (2, 5),\n",
    "    'sulphates': (0, 1.6),\n",
    "    'alcohol': (0, 20)\n",
    "}\n",
    "\n",
    "# Remove rows outside of the acceptable ranges\n",
    "for feature in acceptable_ranges:\n",
    "    min_val, max_val = acceptable_ranges[feature]\n",
    "    data = data[(data[feature] >= min_val) & (data[feature] <= max_val)]\n"
   ]
  },
  {
   "attachments": {},
   "cell_type": "markdown",
   "metadata": {},
   "source": [
    "#### Impude Remaining Outliers with Median (Using Interquartile or Z-Score Methods)"
   ]
  },
  {
   "cell_type": "code",
   "execution_count": 19,
   "metadata": {},
   "outputs": [],
   "source": [
    "# Define a function to replace outliers with the median\n",
    "def replace_outliers_with_median(df, feature, target):\n",
    "    # Calculate the first and third quartiles\n",
    "    q1 = df[feature].quantile(0.25)\n",
    "    q3 = df[feature].quantile(0.75)\n",
    "    iqr = q3 - q1\n",
    "    \n",
    "    # Calculate the upper and lower bounds for outliers\n",
    "    lower_bound = q1 - 1.5*iqr\n",
    "    upper_bound = q3 + 1.5*iqr\n",
    "    \n",
    "    # Replace the outliers with the median value for that target group\n",
    "    for t in df[target].unique():\n",
    "        median = df.loc[df[target]==t, feature].median()\n",
    "        df.loc[(df[target]==t) & ((df[feature] < lower_bound) | (df[feature] > upper_bound)), feature] = median\n"
   ]
  },
  {
   "cell_type": "code",
   "execution_count": 20,
   "metadata": {},
   "outputs": [],
   "source": [
    "from scipy import stats\n",
    "def removeOutliersUsingZScore(df):\n",
    "    # identify rows with outlier values (threshold of 3 standard deviations)\n",
    "    outlier_threshold = 3\n",
    "    # calculate z-scores for each column in the dataframe\n",
    "    z_scores = np.abs(stats.zscore(df))\n",
    "\n",
    "    # replace outlier values with median value for each column\n",
    "    for i in range(len(df.columns)):\n",
    "        column = df.iloc[:, i]\n",
    "        median = column.median()\n",
    "        column[z_scores[:, i] > outlier_threshold] = median\n",
    "\n",
    "    # check for remaining outlier values and remove corresponding rows\n",
    "    outlier_rows = np.where(z_scores > outlier_threshold)\n",
    "    df_cleaned = df[(z_scores < outlier_threshold).all(axis=1)]\n"
   ]
  },
  {
   "cell_type": "code",
   "execution_count": 21,
   "metadata": {},
   "outputs": [],
   "source": [
    "# Replace outliers with the median for each feature and outcome group\n",
    "for feature in cols:\n",
    "    replace_outliers_with_median(data, feature, 'quality')"
   ]
  },
  {
   "cell_type": "code",
   "execution_count": 22,
   "metadata": {},
   "outputs": [
    {
     "data": {
      "text/plain": [
       "<AxesSubplot:xlabel='pH', ylabel='Count'>"
      ]
     },
     "execution_count": 22,
     "metadata": {},
     "output_type": "execute_result"
    },
    {
     "data": {
      "image/png": "[encoded data removed]",
      "text/plain": [
       "<Figure size 432x288 with 1 Axes>"
      ]
     },
     "metadata": {
      "needs_background": "light"
     },
     "output_type": "display_data"
    }
   ],
   "source": [
    "sns.histplot(data.iloc[:,9])"
   ]
  },
  {
   "cell_type": "code",
   "execution_count": 23,
   "metadata": {},
   "outputs": [
    {
     "ename": "NameError",
     "evalue": "name 'X_train' is not defined",
     "output_type": "error",
     "traceback": [
      "\u001b[1;31m---------------------------------------------------------------------------\u001b[0m",
      "\u001b[1;31mNameError\u001b[0m                                 Traceback (most recent call last)",
      "\u001b[1;32mc:\\Users\\lando\\Desktop\\Outside o Class Coding\\hackai\\HackAI2023\\ai\\HackAIWine.ipynb Cell 28\u001b[0m in \u001b[0;36m<cell line: 16>\u001b[1;34m()\u001b[0m\n\u001b[0;32m     <a href='vscode-notebook-cell:/c%3A/Users/lando/Desktop/Outside%20o%20Class%20Coding/hackai/HackAI2023/ai/HackAIWine.ipynb#X36sZmlsZQ%3D%3D?line=12'>13</a>\u001b[0m \u001b[39mimport\u001b[39;00m \u001b[39mitertools\u001b[39;00m\n\u001b[0;32m     <a href='vscode-notebook-cell:/c%3A/Users/lando/Desktop/Outside%20o%20Class%20Coding/hackai/HackAI2023/ai/HackAIWine.ipynb#X36sZmlsZQ%3D%3D?line=14'>15</a>\u001b[0m \u001b[39m# Create all possible pairs of features\u001b[39;00m\n\u001b[1;32m---> <a href='vscode-notebook-cell:/c%3A/Users/lando/Desktop/Outside%20o%20Class%20Coding/hackai/HackAI2023/ai/HackAIWine.ipynb#X36sZmlsZQ%3D%3D?line=15'>16</a>\u001b[0m feature_pairs \u001b[39m=\u001b[39m \u001b[39mlist\u001b[39m(itertools\u001b[39m.\u001b[39mcombinations(X_train\u001b[39m.\u001b[39mcolumns, \u001b[39m2\u001b[39m))\n\u001b[0;32m     <a href='vscode-notebook-cell:/c%3A/Users/lando/Desktop/Outside%20o%20Class%20Coding/hackai/HackAI2023/ai/HackAIWine.ipynb#X36sZmlsZQ%3D%3D?line=17'>18</a>\u001b[0m \u001b[39m# Train a random forest model for each feature pair and record the accuracy\u001b[39;00m\n\u001b[0;32m     <a href='vscode-notebook-cell:/c%3A/Users/lando/Desktop/Outside%20o%20Class%20Coding/hackai/HackAI2023/ai/HackAIWine.ipynb#X36sZmlsZQ%3D%3D?line=18'>19</a>\u001b[0m accuracies \u001b[39m=\u001b[39m {}\n",
      "\u001b[1;31mNameError\u001b[0m: name 'X_train' is not defined"
     ]
    }
   ],
   "source": [
    "# import pandas as pd\n",
    "# from sklearn.model_selection import train_test_split\n",
    "# from sklearn.ensemble import RandomForestClassifier\n",
    "\n",
    "# Load the dataset\n",
    "# data = pd.read_csv('wine_quality.csv')\n",
    "\n",
    "# Split the data into training and test sets\n",
    "# X = data.iloc[:, 1:-1]\n",
    "# y = data.iloc[:, -1]\n",
    "# X_train, X_test, y_train, y_test = train_test_split(X, y, test_size=0.3, random_state=42)\n",
    "\n",
    "import itertools\n",
    "\n",
    "# Create all possible pairs of features\n",
    "feature_pairs = list(itertools.combinations(X_train.columns, 2))\n",
    "\n",
    "# Train a random forest model for each feature pair and record the accuracy\n",
    "accuracies = {}\n",
    "for pair in feature_pairs:\n",
    "    # Train a random forest model with only the current pair of features\n",
    "    X_train_pair = X_train[list(pair)]\n",
    "    X_test_pair = X_test[list(pair)]\n",
    "    rf_pair = RandomForestClassifier(n_estimators=100, random_state=42)\n",
    "    rf_pair.fit(X_train_pair, y_train)\n",
    "    y_pred_pair = rf_pair.predict(X_test_pair)\n",
    "    accuracy_pair = accuracy_score(y_test, y_pred_pair)\n",
    "    accuracies[pair] = accuracy_pair\n",
    "\n",
    "# Evaluate the accuracy of each feature pair and print the results\n",
    "best_pair = None\n",
    "best_accuracy = 0\n",
    "for pair, accuracy in accuracies.items():\n",
    "    print(f\"Features: {pair}, Accuracy: {accuracy}\")\n",
    "    if accuracy > best_accuracy:\n",
    "        best_pair = pair\n",
    "        best_accuracy = accuracy\n",
    "\n",
    "print(f\"\\nBest pair: {best_pair}, Accuracy: {best_accuracy}\")\n",
    "\n",
    "\n",
    "\"\"\"\n",
    "# Define a list of feature pairs to compare\n",
    "feature_pairs = [('fixed acidity', 'volatile acidity'), ('fixed acidity', 'citric acid'), ('fixed acidity', 'residual sugar'),\n",
    "                 ('fixed acidity', 'chlorides'), ('fixed acidity', 'free sulfur dioxide'), ('fixed acidity', 'total sulfur dioxide'),\n",
    "                 ('fixed acidity', 'density'), ('fixed acidity', 'pH'), ('fixed acidity', 'sulphates'), ('fixed acidity', 'alcohol'),\n",
    "                 ('volatile acidity', 'citric acid'), ('volatile acidity', 'residual sugar'), ('volatile acidity', 'chlorides'),\n",
    "                 ('volatile acidity', 'free sulfur dioxide'), ('volatile acidity', 'total sulfur dioxide'), ('volatile acidity', 'density'),\n",
    "                 ('volatile acidity', 'pH'), ('volatile acidity', 'sulphates'), ('volatile acidity', 'alcohol'),\n",
    "                 ('citric acid', 'residual sugar'), ('citric acid', 'chlorides'), ('citric acid', 'free sulfur dioxide'),\n",
    "                 ('citric acid', 'total sulfur dioxide'), ('citric acid', 'density'), ('citric acid', 'pH'), ('citric acid', 'sulphates'),\n",
    "                 ('citric acid', 'alcohol'), ('residual sugar', 'chlorides'), ('residual sugar', 'free sulfur dioxide'),\n",
    "                 ('residual sugar', 'total sulfur dioxide'), ('residual sugar', 'density'), ('residual sugar', 'pH'),\n",
    "                 ('residual sugar', 'sulphates'), ('residual sugar', 'alcohol'), ('chlorides', 'free sulfur dioxide'),\n",
    "                 ('chlorides', 'total sulfur dioxide'), ('chlorides', 'density'), ('chlorides', 'pH'), ('chlorides', 'sulphates'),\n",
    "                 ('chlorides', 'alcohol'), ('free sulfur dioxide', 'total sulfur dioxide'), ('free sulfur dioxide', 'density'),\n",
    "                 ('free sulfur dioxide', 'pH'), ('free sulfur dioxide', 'sulphates'), ('free sulfur dioxide', 'alcohol'),\n",
    "                 ('total sulfur dioxide', 'density'), ('total sulfur dioxide', 'pH'), ('total sulfur dioxide', 'sulphates'),\n",
    "                 ('total sulfur dioxide', 'alcohol'), ('density', 'pH'), ('density', 'sulphates'), ('density', 'alcohol'),\n",
    "                 ('pH', 'sulphates'), ('pH', 'alcohol'), ('sulphates', 'alcohol')]\n",
    "\n",
    "# Define a function to train and evaluate a random forest classifier on a given pair of features\n",
    "def evaluate_feature_pair(feature_pair):\n",
    "    X_train_pair = X_train[list(feature_pair)]\n",
    "    X_test_pair = X_test[list(feature_pair)]\n",
    "    clf = RandomForestClassifier(n_estimators=100, random_state=42)\n",
    "    clf.fit(X_train_pair, y_train)\n",
    "    accuracy = clf.score(X_test_pair, y_test)\n",
    "    return accuracy\n",
    "\"\"\"\n"
   ]
  }
 ],
 "metadata": {
  "kernelspec": {
   "display_name": "Python 3",
   "language": "python",
   "name": "python3"
  },
  "language_info": {
   "codemirror_mode": {
    "name": "ipython",
    "version": 3
   },
   "file_extension": ".py",
   "mimetype": "text/x-python",
   "name": "python",
   "nbconvert_exporter": "python",
   "pygments_lexer": "ipython3",
   "version": "3.9.8"
  },
  "orig_nbformat": 4,
  "vscode": {
   "interpreter": {
    "hash": "11938c6bc6919ae2720b4d5011047913343b08a43b18698fd82dedb0d4417594"
   }
  }
 },
 "nbformat": 4,
 "nbformat_minor": 2
}
